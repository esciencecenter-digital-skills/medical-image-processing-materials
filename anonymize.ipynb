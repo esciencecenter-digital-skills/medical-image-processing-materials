{
 "cells": [
  {
   "cell_type": "code",
   "execution_count": null,
   "id": "835bcc15-c120-4cec-b670-436459f43436",
   "metadata": {
    "tags": []
   },
   "outputs": [],
   "source": [
    "# Anonymization"
   ]
  },
  {
   "cell_type": "code",
   "execution_count": null,
   "id": "0c73241f-7a49-4449-b32f-d66f85c438f2",
   "metadata": {
    "tags": []
   },
   "outputs": [],
   "source": [
    "import pydicom\n",
    "from pydicom import dcmread\n"
   ]
  },
  {
   "cell_type": "code",
   "execution_count": null,
   "id": "01715155-f57b-4d04-85fa-3d5282809f16",
   "metadata": {
    "tags": []
   },
   "outputs": [],
   "source": [
    "# now we will read in our dicom"
   ]
  },
  {
   "cell_type": "code",
   "execution_count": null,
   "id": "5ae70f17-f059-4eff-9f87-39a49e498a2a",
   "metadata": {},
   "outputs": [],
   "source": [
    "fpath = \"data/anonym/our_sample_dicom.dcm\"\n",
    "ds = dcmread(fpath)\n",
    "print(ds)"
   ]
  },
  {
   "cell_type": "markdown",
   "id": "959dd65a-0a1c-4897-826b-4886e5ccb15e",
   "metadata": {},
   "source": [
    "# Exercise\n",
    "Now that you can see all kinds of metadata:\n",
    "Can you determine which metadata for this CT scan is likely safe, meaning it does not lead to patient identification? When would you choose to retain such data?"
   ]
  },
  {
   "cell_type": "markdown",
   "id": "0246e5bc-b530-4d8c-8735-cef756a4349c",
   "metadata": {},
   "source": [
    "# Awnser\n",
    "\n",
    "Metadata related to the machine, image type, and file type are generally safe. This information is particularly valuable when sorting through numerous DICOM files to locate specific types of images or when generating tabular data for harmonization purposes."
   ]
  },
  {
   "cell_type": "code",
   "execution_count": null,
   "id": "43ee19fa-bcb0-4b6a-94c2-a78e6c835409",
   "metadata": {
    "tags": []
   },
   "outputs": [],
   "source": [
    "elem = ds[0x0010, 0x0010]\n",
    "print(elem.value)"
   ]
  },
  {
   "cell_type": "code",
   "execution_count": null,
   "id": "407e328a-1266-4855-9d69-f1fde36cc5c6",
   "metadata": {
    "tags": []
   },
   "outputs": [],
   "source": [
    "elem.value = 'Citizen^Almoni'\n",
    "print(elem)"
   ]
  },
  {
   "cell_type": "code",
   "execution_count": null,
   "id": "7e4edaa8-fe8a-45d7-8d9e-24d544eb9c5c",
   "metadata": {
    "tags": []
   },
   "outputs": [],
   "source": [
    "ds.PatientName = 'Almoni^Shmalmoni'\n",
    "print(elem)"
   ]
  },
  {
   "cell_type": "code",
   "execution_count": null,
   "id": "e95097ba-d03f-4c22-9339-e5c044999862",
   "metadata": {
    "tags": []
   },
   "outputs": [],
   "source": [
    "ds.PatientName = None\n",
    "print(elem)"
   ]
  },
  {
   "cell_type": "code",
   "execution_count": null,
   "id": "31691081-c862-45fc-a67e-b61dd35f130f",
   "metadata": {},
   "outputs": [],
   "source": [
    "ds.save_as('data/anonym/my_modified_dicom.dcm')"
   ]
  },
  {
   "cell_type": "markdown",
   "id": "26435eef-6714-4750-8162-bbd6e1fc799e",
   "metadata": {},
   "source": [
    "Exercise 2:\n",
    "    How can you access and print additional patient identifying data? Hint: Refer to the documentation and compare with what we have already printed."
   ]
  },
  {
   "cell_type": "code",
   "execution_count": null,
   "id": "0e496418-a4e8-4d1c-bfc0-3f222ec080df",
   "metadata": {
    "tags": []
   },
   "outputs": [],
   "source": [
    "print(ds.PatientBirthDate)\n",
    "print(ds.PatientID)\n",
    "print(ds.OtherPatientIDs)\n",
    "print(ds.PatientSex)\n",
    "print(ds.PatientAge)"
   ]
  },
  {
   "cell_type": "code",
   "execution_count": null,
   "id": "6a8f14c0-99f9-4c7a-be93-10a84b12e376",
   "metadata": {},
   "outputs": [],
   "source": []
  }
 ],
 "metadata": {
  "kernelspec": {
   "display_name": "Python 3 (ipykernel)",
   "language": "python",
   "name": "python3"
  },
  "language_info": {
   "codemirror_mode": {
    "name": "ipython",
    "version": 3
   },
   "file_extension": ".py",
   "mimetype": "text/x-python",
   "name": "python",
   "nbconvert_exporter": "python",
   "pygments_lexer": "ipython3",
   "version": "3.10.14"
  }
 },
 "nbformat": 4,
 "nbformat_minor": 5
}
