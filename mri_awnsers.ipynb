{
 "cells": [
  {
   "cell_type": "markdown",
   "id": "3b648a0a-bded-45af-87e4-8dd179572c44",
   "metadata": {},
   "source": [
    "# Medical Image Processing MRI work"
   ]
  },
  {
   "cell_type": "code",
   "execution_count": 1,
   "id": "0fcf680b-3a72-42c8-9e22-40eddb97392d",
   "metadata": {
    "tags": []
   },
   "outputs": [],
   "source": [
    "# import libraries\n",
    "\n",
    "import nibabel as nib\n",
    "import numpy as np\n",
    "import matplotlib.pyplot as plt"
   ]
  },
  {
   "cell_type": "code",
   "execution_count": 2,
   "id": "b76cd4c9-6bdf-4d89-831c-4226b1e48a33",
   "metadata": {
    "tags": []
   },
   "outputs": [],
   "source": [
    "t2_img= nib.load(\"data/mri/OBJECT_phantom_T2W_TSE_Cor_14_1.nii\")"
   ]
  },
  {
   "cell_type": "code",
   "execution_count": 3,
   "id": "b66b204a-b3c4-4046-9031-37569e5bb8d7",
   "metadata": {
    "tags": []
   },
   "outputs": [
    {
     "name": "stdout",
     "output_type": "stream",
     "text": [
      "<class 'nibabel.nifti1.Nifti1Header'> object, endian='<'\n",
      "sizeof_hdr      : 348\n",
      "data_type       : b''\n",
      "db_name         : b''\n",
      "extents         : 0\n",
      "session_error   : 0\n",
      "regular         : b''\n",
      "dim_info        : 0\n",
      "dim             : [  3 432 432  30   1   1   1   1]\n",
      "intent_p1       : 0.0\n",
      "intent_p2       : 0.0\n",
      "intent_p3       : 0.0\n",
      "intent_code     : none\n",
      "datatype        : int16\n",
      "bitpix          : 16\n",
      "slice_start     : 0\n",
      "pixdim          : [1.        0.9259259 0.9259259 5.7360578 0.        0.        0.\n",
      " 0.       ]\n",
      "vox_offset      : 0.0\n",
      "scl_slope       : nan\n",
      "scl_inter       : nan\n",
      "slice_end       : 29\n",
      "slice_code      : unknown\n",
      "xyzt_units      : 2\n",
      "cal_max         : 0.0\n",
      "cal_min         : 0.0\n",
      "slice_duration  : 0.0\n",
      "toffset         : 0.0\n",
      "glmax           : 0\n",
      "glmin           : 0\n",
      "descrip         : b'Philips Healthcare Ingenia 5.4.1 '\n",
      "aux_file        : b''\n",
      "qform_code      : scanner\n",
      "sform_code      : unknown\n",
      "quatern_b       : 0.008265011\n",
      "quatern_c       : 0.7070585\n",
      "quatern_d       : -0.7070585\n",
      "qoffset_x       : 180.81993\n",
      "qoffset_y       : 21.169691\n",
      "qoffset_z       : 384.01007\n",
      "srow_x          : [1. 0. 0. 0.]\n",
      "srow_y          : [0. 1. 0. 0.]\n",
      "srow_z          : [0. 0. 1. 0.]\n",
      "intent_name     : b''\n",
      "magic           : b'n+1'\n"
     ]
    }
   ],
   "source": [
    "t2_data_header = t2_img.header\n",
    "print(t2_data_header)"
   ]
  },
  {
   "cell_type": "code",
   "execution_count": 4,
   "id": "cfb12b31-a118-439a-a784-2d6b3c75d2e9",
   "metadata": {
    "tags": []
   },
   "outputs": [],
   "source": [
    "# What is this- it is a dictionary. A dictionary will have keys and values!"
   ]
  },
  {
   "cell_type": "code",
   "execution_count": 5,
   "id": "dd403946-95f8-4604-bcee-2390c92e6609",
   "metadata": {
    "tags": []
   },
   "outputs": [
    {
     "name": "stdout",
     "output_type": "stream",
     "text": [
      "[  3 432 432  30   1   1   1   1]\n"
     ]
    }
   ],
   "source": [
    "# let's do this the less right way\n",
    "print(t2_data_header.values()[7])"
   ]
  },
  {
   "cell_type": "code",
   "execution_count": 6,
   "id": "9e872887-bf41-468a-bb74-7c946c2539a1",
   "metadata": {
    "tags": []
   },
   "outputs": [],
   "source": [
    "#print(t2_data_header['key_name'])"
   ]
  },
  {
   "cell_type": "code",
   "execution_count": 7,
   "id": "45578e7c-3688-44b2-9a27-8f3968a2529b",
   "metadata": {
    "tags": []
   },
   "outputs": [
    {
     "name": "stdout",
     "output_type": "stream",
     "text": [
      "[1.        0.9259259 0.9259259 5.7360578 0.        0.        0.\n",
      " 0.       ]\n"
     ]
    }
   ],
   "source": [
    "#EXERCISE\n",
    "print(t2_data_header['pixdim'])"
   ]
  },
  {
   "cell_type": "code",
   "execution_count": 8,
   "id": "3ce8a274-5bee-465b-b101-2edb02a27897",
   "metadata": {
    "tags": []
   },
   "outputs": [
    {
     "name": "stdout",
     "output_type": "stream",
     "text": [
      "[[[0. 0. 0. ... 0. 0. 0.]\n",
      "  [0. 0. 0. ... 0. 0. 0.]\n",
      "  [0. 0. 0. ... 0. 0. 0.]\n",
      "  ...\n",
      "  [0. 0. 0. ... 0. 0. 0.]\n",
      "  [0. 0. 0. ... 0. 0. 0.]\n",
      "  [0. 0. 0. ... 0. 0. 0.]]\n",
      "\n",
      " [[0. 0. 0. ... 0. 0. 0.]\n",
      "  [0. 0. 0. ... 0. 0. 0.]\n",
      "  [0. 0. 0. ... 0. 0. 0.]\n",
      "  ...\n",
      "  [0. 0. 0. ... 0. 0. 0.]\n",
      "  [0. 0. 0. ... 0. 0. 0.]\n",
      "  [0. 0. 0. ... 0. 0. 0.]]\n",
      "\n",
      " [[0. 0. 0. ... 0. 0. 0.]\n",
      "  [0. 0. 0. ... 0. 0. 0.]\n",
      "  [0. 0. 0. ... 0. 0. 0.]\n",
      "  ...\n",
      "  [0. 0. 0. ... 0. 0. 0.]\n",
      "  [0. 0. 0. ... 0. 0. 0.]\n",
      "  [0. 0. 0. ... 0. 0. 0.]]\n",
      "\n",
      " ...\n",
      "\n",
      " [[0. 0. 0. ... 0. 0. 0.]\n",
      "  [0. 0. 0. ... 0. 0. 0.]\n",
      "  [0. 0. 0. ... 0. 0. 0.]\n",
      "  ...\n",
      "  [0. 0. 0. ... 0. 0. 0.]\n",
      "  [0. 0. 0. ... 0. 0. 0.]\n",
      "  [0. 0. 0. ... 0. 0. 0.]]\n",
      "\n",
      " [[0. 0. 0. ... 0. 0. 0.]\n",
      "  [0. 0. 0. ... 0. 0. 0.]\n",
      "  [0. 0. 0. ... 0. 0. 0.]\n",
      "  ...\n",
      "  [0. 0. 0. ... 0. 0. 0.]\n",
      "  [0. 0. 0. ... 0. 0. 0.]\n",
      "  [0. 0. 0. ... 0. 0. 0.]]\n",
      "\n",
      " [[0. 0. 0. ... 0. 0. 0.]\n",
      "  [0. 0. 0. ... 0. 0. 0.]\n",
      "  [0. 0. 0. ... 0. 0. 0.]\n",
      "  ...\n",
      "  [0. 0. 0. ... 0. 0. 0.]\n",
      "  [0. 0. 0. ... 0. 0. 0.]\n",
      "  [0. 0. 0. ... 0. 0. 0.]]]\n"
     ]
    }
   ],
   "source": [
    "t2_data = t2_img.get_fdata()\n",
    "print(t2_data)"
   ]
  },
  {
   "cell_type": "code",
   "execution_count": 9,
   "id": "884652d9-8a2c-4e3b-a0e3-72373be9eb42",
   "metadata": {
    "tags": []
   },
   "outputs": [
    {
     "name": "stdout",
     "output_type": "stream",
     "text": [
      "<class 'numpy.ndarray'>\n"
     ]
    }
   ],
   "source": [
    "print(type(t2_data))"
   ]
  },
  {
   "cell_type": "code",
   "execution_count": 10,
   "id": "0910210b-5ac4-457c-a3b8-f0590b1daf89",
   "metadata": {
    "tags": []
   },
   "outputs": [
    {
     "data": {
      "text/plain": [
       "<nibabel.arrayproxy.ArrayProxy at 0x1f2366d4c10>"
      ]
     },
     "execution_count": 10,
     "metadata": {},
     "output_type": "execute_result"
    }
   ],
   "source": [
    "# Notice we could actually access the picture another way\n",
    "t2_img.dataobj"
   ]
  },
  {
   "cell_type": "code",
   "execution_count": 11,
   "id": "3898d725-eb1d-4fc6-b7af-c59dc96c415f",
   "metadata": {
    "tags": []
   },
   "outputs": [],
   "source": [
    "# What is an arrayproxy, and why do we care?\n",
    "# 1. we accessed it as a property\n",
    "# depends on exact library, but usually array proxies may be faster as a rule of thumb\n",
    "# so I use it when graphing, the documentation is a bit opaque, but long"
   ]
  },
  {
   "cell_type": "code",
   "execution_count": 12,
   "id": "5d71f733-2579-4c8e-95e1-29bd67f69efa",
   "metadata": {},
   "outputs": [
    {
     "ename": "SyntaxError",
     "evalue": "invalid syntax (3938222637.py, line 2)",
     "output_type": "error",
     "traceback": [
      "\u001b[1;36m  Cell \u001b[1;32mIn[12], line 2\u001b[1;36m\u001b[0m\n\u001b[1;33m    t2_data.\u001b[0m\n\u001b[1;37m            ^\u001b[0m\n\u001b[1;31mSyntaxError\u001b[0m\u001b[1;31m:\u001b[0m invalid syntax\n"
     ]
    }
   ],
   "source": [
    "#t2_data. followed by Tab. gives us menu information on attributes + methods\n",
    "t2_data."
   ]
  },
  {
   "cell_type": "markdown",
   "id": "2fbe33ed-1d52-4a85-9ca7-e336fe277d30",
   "metadata": {},
   "source": [
    "#Exercise #2 : Use this, or the documentation, and print of the nuber of dimensions; then figure out the shape of the image and print it"
   ]
  },
  {
   "cell_type": "code",
   "execution_count": 13,
   "id": "33314033-88a0-4e58-9873-202e26ef8ff1",
   "metadata": {
    "tags": []
   },
   "outputs": [
    {
     "name": "stdout",
     "output_type": "stream",
     "text": [
      "3\n",
      "(432, 432, 30)\n"
     ]
    }
   ],
   "source": [
    "print(t2_data.ndim)\n",
    "print(t2_data.shape)"
   ]
  },
  {
   "cell_type": "markdown",
   "id": "6b3db9e1-5d54-44ba-a58b-6f63be09ce2a",
   "metadata": {},
   "source": [
    "The three numbers given here represent the number of values along a respective dimension (x,y,z). This image was scanned in 30 slices, each with a resolution of 432 x 432 voxels. That means there are 30 * 432 * 432 = 5,598,720 voxels in total!\n",
    "\n",
    "But what data type are these voxels?"
   ]
  },
  {
   "cell_type": "code",
   "execution_count": 14,
   "id": "d24b5bad-6258-4630-8c75-8fcdb5329275",
   "metadata": {
    "tags": []
   },
   "outputs": [
    {
     "name": "stdout",
     "output_type": "stream",
     "text": [
      "float64\n"
     ]
    }
   ],
   "source": [
    "print(t2_data.dtype)"
   ]
  },
  {
   "cell_type": "markdown",
   "id": "fa5aefdf-77ba-4db6-a239-ebe3ed05b679",
   "metadata": {},
   "source": [
    "This tells us that each element in the array (or voxel) is a floating-point number.\n",
    "The data type of an image controls the range of possible intensities. As the number of possible values increases, the amount of space the image takes up in memory also increase"
   ]
  },
  {
   "cell_type": "code",
   "execution_count": 15,
   "id": "778e8cd0-f895-4e4c-a3fb-0f6e890aa051",
   "metadata": {
    "tags": []
   },
   "outputs": [
    {
     "name": "stdout",
     "output_type": "stream",
     "text": [
      "0.0\n",
      "630641.0785522461\n"
     ]
    }
   ],
   "source": [
    "\n",
    "print(np.min(t2_data))\n",
    "print(np.max(t2_data))"
   ]
  },
  {
   "cell_type": "markdown",
   "id": "b69d25cc-d187-4d8a-ab4e-48bdfeb27748",
   "metadata": {
    "tags": []
   },
   "source": [
    "for our r 3D arrayThe general formula to access a value value = data[x, y, z]"
   ]
  },
  {
   "cell_type": "code",
   "execution_count": 16,
   "id": "4bdb1c9c-f1f4-4277-a8dd-630670c1dbd1",
   "metadata": {
    "tags": []
   },
   "outputs": [
    {
     "name": "stdout",
     "output_type": "stream",
     "text": [
      "0.0\n"
     ]
    }
   ],
   "source": [
    "print(t2_data[9, 19, 2])"
   ]
  },
  {
   "cell_type": "code",
   "execution_count": 17,
   "id": "34affae9-335d-429c-a883-d27ba2c96fa0",
   "metadata": {
    "tags": []
   },
   "outputs": [],
   "source": [
    "# let's start looking at whole slices, let's take the 10th slice\n",
    "z_slice = t2_data[:, :, 9]"
   ]
  },
  {
   "cell_type": "markdown",
   "id": "d2cb8217-476c-4c41-bbe9-0dd3b20dc462",
   "metadata": {},
   "source": [
    "Exercise:\n",
    "\n",
    "Select the 20th slice along the y-axis and store it in a variable. Then, select the 4th slice along the x-axis and store it in another variable."
   ]
  },
  {
   "cell_type": "code",
   "execution_count": 18,
   "id": "f4654d2c-83b8-496e-8946-bd770e989d07",
   "metadata": {
    "tags": []
   },
   "outputs": [],
   "source": [
    "# Awnser"
   ]
  },
  {
   "cell_type": "code",
   "execution_count": 19,
   "id": "8aa33bf5-ad66-42a6-baa9-9bf500a720a4",
   "metadata": {
    "tags": []
   },
   "outputs": [],
   "source": [
    "y_slice = t2_data[:, 19, :]\n",
    "x_slice = t2_data[3, :, :]"
   ]
  },
  {
   "cell_type": "code",
   "execution_count": 20,
   "id": "1365e6f4-f01c-4616-9649-c2b2e1aabc77",
   "metadata": {
    "tags": []
   },
   "outputs": [
    {
     "data": {
      "image/png": "[encoded data removed]",
      "text/plain": [
       "<Figure size 640x480 with 3 Axes>"
      ]
     },
     "metadata": {},
     "output_type": "display_data"
    }
   ],
   "source": [
    "%matplotlib inline\n",
    "\n",
    "slices = [x_slice, y_slice, z_slice]\n",
    "\n",
    "fig, axes = plt.subplots(1, len(slices))\n",
    "for i, slice in enumerate(slices):\n",
    "    axes[i].imshow(slice.T, cmap=\"gray\", origin=\"lower\")"
   ]
  },
  {
   "cell_type": "markdown",
   "id": "234a556c-f693-4f4d-bd06-f012dd35404d",
   "metadata": {},
   "source": [
    "# now let's get into something a bit more complex\n",
    "# the affine matrixTo explain this concept, recall that we referred to coordinates in our data as (x,y,z) coordinates such that:\n",
    "\n",
    "    x is the first dimension of t2_data\n",
    "    y is the second dimension of t2_data\n",
    "    z is the third dimension of t2_data\n",
    "\n",
    "Although this tells us how to access our data in terms of voxels in a 3D volume, it doesn’t tell us much about the actual dimensions in our data (centimetres, right or left, up or down, back or front). The affine matrix allows us to translate between voxel coordinates in (x,y,z) and world space coordinates in (left/right, bottom/top, back/front). An important thing to note is that in reality in which order you have:\n",
    "\n",
    "    Left/right\n",
    "    Bottom/top\n",
    "    Back/front\n",
    "\n",
    "Depends on how you’ve constructed the affine matrix; thankfully there is in depth coverage of the issue the nibabel documentation For most of the the data we’re dealing with we use a RAS coordinate system so it always refers to:\n",
    "\n",
    "    Right\n",
    "    Anterior\n",
    "    Superior\n"
   ]
  },
  {
   "cell_type": "code",
   "execution_count": 21,
   "id": "4f871ebc-f35f-4978-abe6-2dc7d9ea1a3f",
   "metadata": {
    "tags": []
   },
   "outputs": [
    {
     "name": "stdout",
     "output_type": "stream",
     "text": [
      "[[-9.25672975e-01  2.16410652e-02 -1.74031337e-05  1.80819931e+02]\n",
      " [ 2.80924864e-06 -3.28338569e-08 -5.73605776e+00  2.11696911e+01]\n",
      " [-2.16410652e-02 -9.25672975e-01 -2.03403855e-07  3.84010071e+02]\n",
      " [ 0.00000000e+00  0.00000000e+00  0.00000000e+00  1.00000000e+00]]\n"
     ]
    }
   ],
   "source": [
    "\n",
    "t2_affine = t2_img.affine\n",
    "print(t2_affine)"
   ]
  },
  {
   "cell_type": "markdown",
   "id": "bc7e649e-cbc4-4cc5-9b36-33e71711124f",
   "metadata": {
    "tags": []
   },
   "source": [
    "Applying the affine matrix (t2_affine) is done by using a linear map (matrix multiplication) on voxel coordinates (defined in t2_data).\n",
    "If we want to know what the distances between these two voxels are in terms of real world distances (millimetres), this information cannot be derived from using voxel coordinates, and so we need the affine matrix."
   ]
  },
  {
   "cell_type": "markdown",
   "id": "c6f9cda7-1e08-4b42-9443-619eabc875be",
   "metadata": {},
   "source": [
    "Now finally, what is right and left, up and down?\n",
    "\n",
    "Let's go back to the slides"
   ]
  },
  {
   "cell_type": "code",
   "execution_count": null,
   "id": "d2243877-adf2-4b1d-bcde-cb52721138e2",
   "metadata": {},
   "outputs": [],
   "source": []
  }
 ],
 "metadata": {
  "kernelspec": {
   "display_name": "Python 3 (ipykernel)",
   "language": "python",
   "name": "python3"
  },
  "language_info": {
   "codemirror_mode": {
    "name": "ipython",
    "version": 3
   },
   "file_extension": ".py",
   "mimetype": "text/x-python",
   "name": "python",
   "nbconvert_exporter": "python",
   "pygments_lexer": "ipython3",
   "version": "3.10.14"
  }
 },
 "nbformat": 4,
 "nbformat_minor": 5
}
