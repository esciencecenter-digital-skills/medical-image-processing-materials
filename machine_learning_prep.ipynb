{
 "cells": [
  {
   "cell_type": "markdown",
   "id": "fa640ff0-4c56-4baf-837b-91f19e6a7084",
   "metadata": {},
   "source": [
    "# Machine learning prep"
   ]
  },
  {
   "cell_type": "markdown",
   "id": "f10352fc-4293-4faf-86c5-bb260ff29bc5",
   "metadata": {},
   "source": [
    "# import libraries"
   ]
  },
  {
   "cell_type": "code",
   "execution_count": null,
   "id": "360d636a-360a-4853-9890-8a1864379322",
   "metadata": {
    "tags": []
   },
   "outputs": [],
   "source": [
    "import numpy as np\n",
    "import matplotlib\n",
    "from matplotlib import pyplot as plt\n",
    "\n",
    "from skimage import io\n",
    "#let's you read and write images\n",
    "\n",
    "\n",
    "from skimage import transform\n",
    "# tools for geoemtric transforms on 2D and 3D, resizes, rescales, other trasnforms like warp, and some feature detectiona and extraction\n",
    "\n",
    "from skimage import transform as tf\n",
    "# this is just aliasing because i don't like typing too much\n",
    "\n",
    "from skimage.transform import rotate\n",
    "from skimage.transform import PiecewiseAffineTransform\n",
    "from skimage.transform import resize"
   ]
  },
  {
   "cell_type": "code",
   "execution_count": null,
   "id": "48669dd7-b82b-4f35-94ed-b68e4fd83202",
   "metadata": {
    "tags": []
   },
   "outputs": [],
   "source": [
    "# Let;s import our images and take a look\n",
    "image_cxr1 = io.imread('data/ml/rotatechest.png') # a relatively normal chest X-ray (CXR)\n",
    "image_cxr_cmegaly = io.imread('data/ml/cardiomegaly_cc0.png') # cardiomegaly CXR\n",
    "image_cxr2 = io.imread('data/ml/other_op.png') # a relatively normal CXR\n",
    "# create figure\n",
    "fig = plt.figure(figsize=(10, 7))\n",
    "  \n",
    "# setting values to rows and column variables\n",
    "rows = 1\n",
    "columns = 3\n",
    "\n",
    "# Adds a subplot at the 1st position\n",
    "fig.add_subplot(rows, columns, 1)\n",
    "# showing image\n",
    "plt.imshow(image_cxr1)\n",
    "plt.axis('off')\n",
    "plt.title(\"Normal 1\")\n",
    "  \n",
    "# add a subplot at the 2nd position\n",
    "fig.add_subplot(rows, columns, 2)\n",
    "# showing image\n",
    "plt.imshow(image_cxr_cmegaly)\n",
    "plt.axis('off')\n",
    "plt.title(\"Cardiomegaly\")\n",
    "\n",
    "# add a subplot at the 3nd position\n",
    "fig.add_subplot(rows, columns, 3)\n",
    "# showing image\n",
    "plt.imshow(image_cxr2)\n",
    "plt.axis('off')\n",
    "plt.title(\"Normal 2\")"
   ]
  },
  {
   "cell_type": "markdown",
   "id": "2105c189-8d30-4631-9b76-60447c050dc0",
   "metadata": {},
   "source": [
    "\n",
    "Challenge: Can You See Some problems in the Following Scenario?\n",
    "\n",
    "Imagine you got the above images and many more because you have been assigned to make an algorithm for cardiomegaly detection. The goal is to notify patients if their hospital-acquired X-rays, taken for any reason, show signs of cardiomegaly. This is an example of using ML for opportunistic screening.\n",
    "\n",
    "You are provided with two datasets:\n",
    "\n",
    "    A dataset of healthy (no cardiomegaly) patients from an outpatient clinic in a very poor area, staffed by first-year radiography students. These patients were being screened for tuberculosis (TB).\n",
    "    A dataset of chest X-rays of cardiomegaly patients from an extremely prestigious tertiary inpatient hospital.\n",
    "\n"
   ]
  },
  {
   "cell_type": "markdown",
   "id": "bb29770c-4774-4620-a19f-948b8c2de222",
   "metadata": {},
   "source": [
    "\n",
    "Challenge: Prepare the Images for Classic Supervised ML\n",
    "\n",
    "Use skimage.transform.rotate to create two realistic augmented images from the given ‘normal’ image stored in the variables.\n",
    "\n",
    "Then, in a single block of code, apply what you perceive as the most critical preprocessing operations to prepare these images for classic supervised ML.\n",
    "\n",
    "Hint: Carefully examine the shape of the cardiomegaly image. Consider the impact of harsh lines on ML performance.\n"
   ]
  },
  {
   "cell_type": "markdown",
   "id": "2eb7a3f2-c52b-4319-b1a0-bafd648a0af7",
   "metadata": {
    "tags": []
   },
   "source": [
    "# Solution code"
   ]
  },
  {
   "cell_type": "code",
   "execution_count": null,
   "id": "b6483873-cfe9-4541-ab4c-e51f8ffbb6af",
   "metadata": {
    "tags": []
   },
   "outputs": [],
   "source": [
    "# figure out how much to cut on sides\n",
    "print(\"cut top/bottom:\", (image_cxr_cmegaly.shape[0] - image_cxr1.shape[0])/2)\n",
    "cut_top_bottom = abs(round((image_cxr_cmegaly.shape[0] - image_cxr1.shape[0])/2))\n",
    "# figure our how much to cut on top and bottom\n",
    "print(\"cut sides:\",(image_cxr_cmegaly.shape[1] - image_cxr1.shape[1])/2)"
   ]
  },
  {
   "cell_type": "code",
   "execution_count": null,
   "id": "055b3856-02ba-4f72-9bd8-87a451ccb03a",
   "metadata": {
    "tags": []
   },
   "outputs": [],
   "source": [
    "cut_sides = abs(round((image_cxr_cmegaly.shape[1] - image_cxr1.shape[1])/2))\n",
    "list_images = [image_cxr1, image_cxr_cmegaly, image_cxr2]\n",
    "better_for_ml_list = []\n",
    "for image in list_images:\n",
    "    image = rotate(image,2)\n",
    "    image = image[cut_top_bottom:-cut_top_bottom, cut_sides: -cut_sides]\n",
    "    better_for_ml_list.append(image)\n",
    "\n",
    "# create figure for display\n",
    "fig = plt.figure(figsize=(10, 7))\n",
    "  \n",
    "# setting values to rows and column variables\n",
    "rows = 1\n",
    "columns = 3\n",
    "\n",
    "# add a subplot at the 1st position\n",
    "fig.add_subplot(rows, columns, 1)\n",
    "# showing image\n",
    "plt.imshow(better_for_ml_list[0])\n",
    "plt.axis('off')\n",
    "plt.title(\"Normal example rotated\")\n",
    "  \n",
    "# add a subplot at the 2nd position\n",
    "fig.add_subplot(rows, columns, 2)\n",
    "# showing image\n",
    "plt.imshow(better_for_ml_list[1])\n",
    "plt.axis('off')\n",
    "plt.title(\"Cardiomegaly rotated\")\n",
    "\n",
    "# add a subplot at the 3nd position\n",
    "fig.add_subplot(rows, columns, 3)\n",
    "# showing image\n",
    "plt.imshow(better_for_ml_list[2])\n",
    "plt.axis('off')\n",
    "plt.title(\"Another normal rotated\")\n"
   ]
  },
  {
   "cell_type": "code",
   "execution_count": null,
   "id": "e9d98555-47b3-4de0-87e6-4f333db12ee9",
   "metadata": {
    "tags": []
   },
   "outputs": [],
   "source": [
    "# find a size we want to resize to, here the smallest\n",
    "zero_side = []\n",
    "one_side = []\n",
    "for image in better_for_ml_list:\n",
    "    zero_side.append(image.shape[0])\n",
    "    zero_side.sort()\n",
    "    one_side.append(image.shape[1])\n",
    "    one_side.sort()\n",
    "smallest_size = zero_side[0], one_side[0]\n",
    "# make resized images\n",
    "resized = []\n",
    "for image in better_for_ml_list:\n",
    "    image =  resize(image, (smallest_size))\n",
    "    resized.append(image)\n",
    "\n",
    "# create figure for display\n",
    "fig = plt.figure(figsize=(10, 7))\n",
    "  \n",
    "# setting values to rows and column variables\n",
    "rows = 1\n",
    "columns = 3\n",
    "\n",
    "# add a subplot at the 1st position\n",
    "fig.add_subplot(rows, columns, 1)\n",
    "# showing image\n",
    "plt.imshow(resized[0])\n",
    "plt.axis('off')\n",
    "plt.title(\"Normal 1 Augmented Resized\")\n",
    "  \n",
    "# add a subplot at the 2nd position\n",
    "fig.add_subplot(rows, columns, 2)\n",
    "# showing image\n",
    "plt.imshow(resized[1])\n",
    "plt.axis('off')\n",
    "plt.title(\"Augment Cardiomegaly Resized\")\n",
    "\n",
    "# add a subplot at the 3nd position\n",
    "fig.add_subplot(rows, columns, 3)\n",
    "# showing image\n",
    "plt.imshow(resized[2])\n",
    "plt.axis('off')\n",
    "plt.title(\"Normal 2 Augment  Resized\")"
   ]
  },
  {
   "cell_type": "markdown",
   "id": "0a8c6a96-c4e2-48cf-88f7-1a27db7311e4",
   "metadata": {
    "tags": []
   },
   "source": [
    "# We can do other tranforms!"
   ]
  },
  {
   "cell_type": "code",
   "execution_count": null,
   "id": "fc05501d-9c5e-4dba-9dc0-2704d4f63567",
   "metadata": {
    "tags": []
   },
   "outputs": [],
   "source": [
    "# create affine transform\n",
    "affine_tf = tf.AffineTransform(shear=0.2)\n",
    "\n",
    "# apply transform to image data\n",
    "image_affine_tf = tf.warp(image_cxr_cmegaly, inverse_map=affine_tf)\n",
    "\n",
    "# display the result\n",
    "io.imshow(image_affine_tf)\n",
    "io.show()"
   ]
  },
  {
   "cell_type": "markdown",
   "id": "02c692a1-66fd-48c5-ae56-2beb15046419",
   "metadata": {},
   "source": [
    "And finally, let’s demonstrate a “wave over a mesh.” We’ll start by creating a grid, or “mesh,” over our image, represented by dots in our plot. Then, we’ll apply a warp function to transform the image into the shape of a wave."
   ]
  },
  {
   "cell_type": "code",
   "execution_count": null,
   "id": "aeb966a6-497c-44da-b8a6-5fcb55ee0233",
   "metadata": {
    "tags": []
   },
   "outputs": [],
   "source": [
    "rows, cols = image_affine_tf.shape[0], image_affine_tf.shape[1]\n",
    "\n",
    "# np.linspace will return evenly spaced numbers over an interval\n",
    "src_cols = np.linspace(0, cols, 20)\n",
    "# ie above is start=0, stop = cols, num = 50, and num is the number of chops\n",
    "src_rows = np.linspace(0, rows, 10)\n",
    "\n",
    "# np.meshgrid returns coordinate matrices from coordinate vectors.\n",
    "src_rows, src_cols = np.meshgrid(src_rows, src_cols)\n",
    "\n",
    "# numpy dstack stacks along a third dimension in the concatenation\n",
    "src = np.dstack([src_cols.flat, src_rows.flat])[0]\n",
    "dst_rows = src[:, 1] - np.sin(np.linspace(0, 3 * np.pi, src.shape[0])) * 50\n",
    "dst_cols = src[:, 0]\n",
    "dst_rows *= 1.5\n",
    "dst_rows -= 1.5 * 50\n",
    "dst = np.vstack([dst_cols, dst_rows]).T\n",
    "\n",
    "tform = PiecewiseAffineTransform()\n",
    "tform.estimate(src, dst)\n",
    "noform = PiecewiseAffineTransform()\n",
    "noform.estimate(src, src)\n",
    "\n",
    "out_rows = image_affine_tf.shape[0] - 1.5 * 50\n",
    "out_cols = cols\n",
    "out = tf.warp(image_affine_tf, tform, output_shape=(out_rows, out_cols))\n",
    "# create figure\n",
    "fig = plt.figure(figsize=(10, 7))\n",
    "  \n",
    "# setting values to rows and column variables\n",
    "rows = 1\n",
    "columns = 4\n",
    "\n",
    "# add a subplot at the 1st position\n",
    "fig.add_subplot(rows, columns, 1)\n",
    "# showing image\n",
    "plt.imshow(image_affine_tf)\n",
    "plt.axis('off')\n",
    "plt.title(\"Normal\")\n",
    "  \n",
    "# add a subplot at the 2nd position\n",
    "fig.add_subplot(rows, columns, 2)\n",
    "# showing image\n",
    "plt.imshow(image_affine_tf)\n",
    "plt.plot(noform.inverse(src)[:, 0], noform.inverse(src)[:, 1], '.b')\n",
    "plt.axis('off')\n",
    "plt.title(\"Normal and Mesh\")\n",
    "\n",
    "# add a subplot at the 3nd position\n",
    "fig.add_subplot(rows, columns, 3)\n",
    "# showing image\n",
    "plt.imshow(out)\n",
    "\n",
    "plt.axis('off')\n",
    "plt.title(\"Augment\")\n",
    "\n",
    "# add a subplot at the 3nd position\n",
    "fig.add_subplot(rows, columns, 4)\n",
    "# showing image\n",
    "plt.imshow(out)\n",
    "plt.plot(tform.inverse(src)[:, 0], tform.inverse(src)[:, 1], '.b')\n",
    "plt.axis('off')\n",
    "plt.title(\"Augment and Mesh\")"
   ]
  },
  {
   "cell_type": "code",
   "execution_count": null,
   "id": "b1657e48-32bf-4f19-85a9-fe79bfe1a80b",
   "metadata": {},
   "outputs": [],
   "source": []
  }
 ],
 "metadata": {
  "kernelspec": {
   "display_name": "Python 3 (ipykernel)",
   "language": "python",
   "name": "python3"
  },
  "language_info": {
   "codemirror_mode": {
    "name": "ipython",
    "version": 3
   },
   "file_extension": ".py",
   "mimetype": "text/x-python",
   "name": "python",
   "nbconvert_exporter": "python",
   "pygments_lexer": "ipython3",
   "version": "3.10.14"
  }
 },
 "nbformat": 4,
 "nbformat_minor": 5
}
